{
 "cells": [
  {
   "cell_type": "code",
   "execution_count": null,
   "metadata": {
    "executionInfo": {
     "elapsed": 334,
     "status": "ok",
     "timestamp": 1617074225080,
     "user": {
      "displayName": "cmcoder",
      "photoUrl": "https://lh3.googleusercontent.com/a-/AOh14Gi2nZGR96552lp7LmGLieb_K_yJJKpUtmVgb-Q2QQ=s64",
      "userId": "07850784153800503787"
     },
     "user_tz": 420
    },
    "id": "EuSVlzOe5Io3"
   },
   "outputs": [],
   "source": [
    "import pandas as pd\n",
    "import numpy as np\n",
    "import matplotlib.pyplot as plt\n",
    "import seaborn as sns\n",
    "\n",
    "from sklearn.model_selection import train_test_split\n",
    "from sklearn.metrics import classification_report\n",
    "from sklearn import metrics"
   ]
  },
  {
   "cell_type": "code",
   "execution_count": null,
   "metadata": {
    "colab": {
     "base_uri": "https://localhost:8080/"
    },
    "executionInfo": {
     "elapsed": 330,
     "status": "ok",
     "timestamp": 1617074227321,
     "user": {
      "displayName": "cmcoder",
      "photoUrl": "https://lh3.googleusercontent.com/a-/AOh14Gi2nZGR96552lp7LmGLieb_K_yJJKpUtmVgb-Q2QQ=s64",
      "userId": "07850784153800503787"
     },
     "user_tz": 420
    },
    "id": "2lAq32N_-tAI",
    "outputId": "9bcc9e50-da41-493a-c947-f5c28c529843"
   },
   "outputs": [],
   "source": [
    "from google.colab import drive\n",
    "drive.mount('/content/drive')"
   ]
  },
  {
   "cell_type": "code",
   "execution_count": null,
   "metadata": {
    "colab": {
     "base_uri": "https://localhost:8080/",
     "height": 442
    },
    "executionInfo": {
     "elapsed": 338,
     "status": "error",
     "timestamp": 1617074229947,
     "user": {
      "displayName": "cmcoder",
      "photoUrl": "https://lh3.googleusercontent.com/a-/AOh14Gi2nZGR96552lp7LmGLieb_K_yJJKpUtmVgb-Q2QQ=s64",
      "userId": "07850784153800503787"
     },
     "user_tz": 420
    },
    "id": "H8cmEmZ75Io8",
    "outputId": "e9d4ee8e-6698-4984-b4b3-b7f5afb1c6b7"
   },
   "outputs": [],
   "source": [
    "file=\"oroville.csv\"\n",
    "#file=\"shasta.csv\"\n",
    "df = pd.read_csv(file)\n",
    "df.columns\n",
    "df.replace([np.inf, -np.inf], np.nan, inplace=True)\n",
    "df.fillna(999, inplace=True)"
   ]
  },
  {
   "cell_type": "code",
   "execution_count": null,
   "metadata": {
    "id": "c_B2f1du5Io9"
   },
   "outputs": [],
   "source": [
    "corr = df.corr()\n",
    "sns.heatmap(data=df.corr(),annot=True,cmap=\"coolwarm\",linewidths=1,fmt=\".2f\",linecolor=\"gray\")"
   ]
  },
  {
   "cell_type": "code",
   "execution_count": null,
   "metadata": {
    "id": "vIqahHdv5Io-"
   },
   "outputs": [],
   "source": [
    "sns.pairplot(df, palette=\"husl\",hue='DROUGHT')"
   ]
  },
  {
   "cell_type": "code",
   "execution_count": null,
   "metadata": {
    "id": "VpJ_Sqgg5Io-"
   },
   "outputs": [],
   "source": [
    "X = df[['PRCP', 'TMAX', 'TMIN', 'RAIN', 'RESERVE']]\n",
    "y = df['DROUGHT']"
   ]
  },
  {
   "cell_type": "code",
   "execution_count": null,
   "metadata": {
    "id": "_6poaQmP5Io_"
   },
   "outputs": [],
   "source": [
    "x_train, x_test, y_train, y_test = train_test_split(X, y, test_size=0.25, random_state=42)"
   ]
  },
  {
   "cell_type": "code",
   "execution_count": null,
   "metadata": {
    "id": "hgpU9xsn5Io_"
   },
   "outputs": [],
   "source": [
    "from sklearn.linear_model import LogisticRegression\n",
    "from sklearn.metrics import accuracy_score\n",
    "logistic = LogisticRegression()\n",
    "logistic.fit(x_train, y_train)\n",
    "prediction_lr = logistic.predict(x_test)\n",
    "accuracy_score(y_test, prediction_lr)"
   ]
  },
  {
   "cell_type": "code",
   "execution_count": null,
   "metadata": {
    "id": "O4rJT6hY5Io_"
   },
   "outputs": [],
   "source": [
    "from sklearn.metrics import confusion_matrix\n",
    "confusion_matrix(y_test, prediction_lr)\n",
    "sns.heatmap(confusion_matrix(y_test, prediction_lr) / len(y_test), cmap='Blues', annot=True)"
   ]
  },
  {
   "cell_type": "code",
   "execution_count": null,
   "metadata": {
    "id": "i946SX8W5IpA"
   },
   "outputs": [],
   "source": [
    "plt.figure(figsize=(10, 10))\n",
    "\n",
    "y_pred_proba = logistic.predict_proba(x_train)[::,1]\n",
    "fpr, tpr, _ = metrics.roc_curve(y_train,  y_pred_proba)\n",
    "auc = metrics.roc_auc_score(y_train, y_pred_proba)\n",
    "plt.plot(fpr,tpr,label=\"Training Model Peformance, AUC=\"+str(auc))\n",
    "\n",
    "y_pred_proba = logistic.predict_proba(x_test)[::,1]\n",
    "fpr, tpr, _ = metrics.roc_curve(y_test,  y_pred_proba)\n",
    "auc = metrics.roc_auc_score(y_test, y_pred_proba)\n",
    "plt.plot(fpr,tpr,label=\"Test Model Performance, AUC=\"+str(auc))\n",
    "\n",
    "plt.xlabel('False Positive Rate')\n",
    "plt.ylabel('True Positive Rate')\n",
    "plt.title('Logestic Regression Mode, ROC Curve')\n",
    "plt.legend(loc=4)\n",
    "plt.show()"
   ]
  },
  {
   "cell_type": "code",
   "execution_count": null,
   "metadata": {
    "id": "Z4ff3E7F5IpA"
   },
   "outputs": [],
   "source": [
    "from sklearn.neighbors import KNeighborsClassifier\n",
    "knn = KNeighborsClassifier(n_neighbors = 4)\n",
    "knn.fit(x_train, y_train)\n",
    "y_pred4 = knn.predict(x_test)\n",
    "print(metrics.accuracy_score(y_test, y_pred4))"
   ]
  },
  {
   "cell_type": "code",
   "execution_count": null,
   "metadata": {
    "id": "jbwEgQAP5IpA"
   },
   "outputs": [],
   "source": [
    "confusion_matrix(y_test, y_pred4)\n",
    "sns.heatmap(confusion_matrix(y_test, y_pred4) / len(y_test), cmap='Blues', annot=True)"
   ]
  },
  {
   "cell_type": "code",
   "execution_count": null,
   "metadata": {
    "id": "YNdfRIpM5IpB"
   },
   "outputs": [],
   "source": [
    "plt.figure(figsize=(10, 10))\n",
    "\n",
    "y_pred_proba = knn.predict_proba(x_train)[::,1]\n",
    "fpr, tpr, _ = metrics.roc_curve(y_train,  y_pred_proba)\n",
    "auc = metrics.roc_auc_score(y_train, y_pred_proba)\n",
    "plt.plot(fpr,tpr,label=\"Training Model Performance, AUC=\"+str(auc))\n",
    "\n",
    "y_pred_proba = knn.predict_proba(x_test)[::,1]\n",
    "fpr, tpr, _ = metrics.roc_curve(y_test,  y_pred_proba)\n",
    "auc = metrics.roc_auc_score(y_test, y_pred_proba)\n",
    "plt.plot(fpr,tpr,label=\"Test Model Performance, AUC=\"+str(auc))\n",
    "\n",
    "plt.xlabel('False Positive Rate')\n",
    "plt.ylabel('True Positive Rate')\n",
    "plt.title('K-Nearest Neighbor Model, ROC Curve')\n",
    "plt.legend(loc=4)\n",
    "plt.show()"
   ]
  },
  {
   "cell_type": "code",
   "execution_count": null,
   "metadata": {
    "id": "xKqCAA_a5IpB"
   },
   "outputs": [],
   "source": []
  }
 ],
 "metadata": {
  "colab": {
   "name": "drought2.ipynb",
   "provenance": []
  },
  "kernelspec": {
   "display_name": "Python [conda env:dataviz2] *",
   "language": "python",
   "name": "conda-env-dataviz2-py"
  },
  "language_info": {
   "codemirror_mode": {
    "name": "ipython",
    "version": 3
   },
   "file_extension": ".py",
   "mimetype": "text/x-python",
   "name": "python",
   "nbconvert_exporter": "python",
   "pygments_lexer": "ipython3",
   "version": "3.8.3"
  }
 },
 "nbformat": 4,
 "nbformat_minor": 1
}
